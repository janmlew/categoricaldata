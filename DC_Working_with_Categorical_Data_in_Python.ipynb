{
  "nbformat": 4,
  "nbformat_minor": 0,
  "metadata": {
    "colab": {
      "provenance": [],
      "collapsed_sections": [
        "xqhuTejyTlCi",
        "PN4gSuxhTr17",
        "BMJO-c7Pg8Lh",
        "GzrcfQrGh7N8",
        "ctLFB2MEiPQl",
        "BR5UyerFiqMD",
        "kqOZ7Y8RiqME",
        "U-n68lzMiqMF",
        "FGPXi04RiqMG",
        "YIIGyA0virfc",
        "B1I1yzpvirfc",
        "S0gDzAUdirfd",
        "nYbCzHlMirfe",
        "N0WmZ5RJiwf8",
        "ehqwhGz3iwgC",
        "oVZ7-rrpiwgC",
        "f-qqqPqKiwgD",
        "18QULQaMiwgD",
        "85j_RxMziwgD",
        "OC_V_hDsiwgE",
        "BDwY0SfliwgF",
        "cOvmTIH6iwgF",
        "WILQ9CYsiwgF",
        "QY-hG8zeDOrj",
        "v7W4MN-zDOr0",
        "RVtV_0ELDOr1",
        "pwrLkThRixsP",
        "wB2RegjZixsU",
        "I470qf2FixsV",
        "plml00d4d-Zk",
        "4aQz4qCRixsW",
        "M-H95SrhixsW",
        "lWGcJCG1ixsW",
        "3i30OWVPixsX",
        "AVlgR1bEixsX",
        "6cTe3TD8ixsX",
        "HoSYqUtN1bZm",
        "KDVumsO_1bZ2",
        "zd1eFkmr1bZ3",
        "cKcfIRpAiziT",
        "HgE2sRaeiziZ",
        "lVeZHKQLiziZ",
        "W-u56qbGiziZ",
        "pjfq1Tavizia",
        "3eJZFjzKizia",
        "lGJdY4I8izia",
        "t10PbR5Sizia",
        "GO5IkrICizib"
      ],
      "toc_visible": true
    },
    "kernelspec": {
      "name": "python3",
      "display_name": "Python 3"
    },
    "language_info": {
      "name": "python"
    }
  },
  "cells": [
    {
      "cell_type": "markdown",
      "source": [
        "# Imports."
      ],
      "metadata": {
        "id": "xqhuTejyTlCi"
      }
    },
    {
      "cell_type": "code",
      "execution_count": null,
      "metadata": {
        "id": "gXVP0kyHnyPk"
      },
      "outputs": [],
      "source": [
        "import numpy as np\n",
        "import pandas as pd\n",
        "import seaborn as sns\n",
        "import matplotlib.pyplot as plt\n",
        "#from matplotlib.ticker import PercentFormatter"
      ]
    },
    {
      "cell_type": "markdown",
      "source": [
        "# Data loads."
      ],
      "metadata": {
        "id": "PN4gSuxhTr17"
      }
    },
    {
      "cell_type": "code",
      "source": [
        "# global variables\n",
        "PATH='/content/drive/MyDrive/Colab Notebooks/Project/datasets/'\n",
        "\n",
        "# Google Drive mount\n",
        "# drive.mount('/content/drive', force_remount=True)\n",
        "\n",
        "# Loads\n",
        "dogs_dtypes = {\"sex\": \"category\", \"breed\": \"category\", \"color\": \"category\", \"coat\": \"category\", \"neutered\": \"category\",\n",
        "               \"housebroken\": \"category\", \"likes_people\": \"category\", \"likes_children\": \"category\", \"get_along_males\": \"category\",\n",
        "               \"get_along_females\": \"category\", \"get_along_cats\": \"category\", \"keep_in\": \"category\"}\n",
        "dogs = pd.read_csv(PATH+'ShelterDogs.csv', dtype=dogs_dtypes) #, parse_dates=['dteday'], index_col=0)\n",
        "adult = pd.read_csv(PATH+'adult.csv') #, parse_dates=['divorce_date', 'dob_man', 'dob_woman', 'marriage_date'])\n",
        "reviews = pd.read_csv(PATH+'lasvegas_tripadvisor.csv') #, index_col='INSTNM')\n",
        "used_cars = pd.read_csv(PATH+'cars.csv') #, parse_dates=['divorce_date'])"
      ],
      "metadata": {
        "id": "0fDYZUMsTt-B"
      },
      "execution_count": null,
      "outputs": []
    },
    {
      "cell_type": "code",
      "source": [
        "reviews.dtypes"
      ],
      "metadata": {
        "colab": {
          "base_uri": "https://localhost:8080/"
        },
        "id": "if7Tz-mbFh_Y",
        "outputId": "a3798e0b-a2f0-4e8b-b740-4ff2729852fe"
      },
      "execution_count": null,
      "outputs": [
        {
          "output_type": "execute_result",
          "data": {
            "text/plain": [
              "User country         object\n",
              "Nr. reviews           int64\n",
              "Nr. hotel reviews     int64\n",
              "Helpful votes         int64\n",
              "Score                 int64\n",
              "Period of stay       object\n",
              "Traveler type        object\n",
              "Pool                 object\n",
              "Gym                  object\n",
              "Tennis court         object\n",
              "Spa                  object\n",
              "Casino               object\n",
              "Free internet        object\n",
              "Hotel name           object\n",
              "Hotel stars           int64\n",
              "Nr. rooms             int64\n",
              "User continent       object\n",
              "Member years          int64\n",
              "Review month         object\n",
              "Review weekday       object\n",
              "dtype: object"
            ]
          },
          "metadata": {},
          "execution_count": 3
        }
      ]
    },
    {
      "cell_type": "markdown",
      "source": [
        "# Chapter 1. Introduction to Categorical Data"
      ],
      "metadata": {
        "id": "BMJO-c7Pg8Lh"
      }
    },
    {
      "cell_type": "markdown",
      "source": [
        "## Course Introduction"
      ],
      "metadata": {
        "id": "GzrcfQrGh7N8"
      }
    },
    {
      "cell_type": "markdown",
      "source": [
        "### Exercise 1."
      ],
      "metadata": {
        "id": "ctLFB2MEiPQl"
      }
    },
    {
      "cell_type": "markdown",
      "source": [
        "**Exploring a target variable**\n",
        "\n",
        "You have been asked to build a machine learning model to predict whether or not a person makes over $50,000 in a year. To understand the target variable, Above/Below 50k, you decide to explore the variable in more detail.\n",
        "\n",
        "The Python package pandas will be used throughout this course and will be loaded as pd throughout. The adult census income dataset, adult, has also been preloaded for you.\n",
        "\n",
        "* Explore the Above/Below 50k variable by printing out a description of the variable's contents.\n",
        "* Explore the Above/Below 50k variable by printing out a frequency table of the values found in this column.\n",
        "* Rerun .value_counts(), but this time print out the relative frequency values instead of the counts."
      ],
      "metadata": {
        "id": "JtzmKPZTiWoT"
      }
    },
    {
      "cell_type": "code",
      "source": [
        "# Explore the Above/Below 50k variable\n",
        "print(adult[\"Above/Below 50k\"].describe())\n",
        "\n",
        "# Print a frequency table of \"Above/Below 50k\"\n",
        "print(adult[\"Above/Below 50k\"].value_counts())\n",
        "\n",
        "# Print relative frequency values\n",
        "print(adult[\"Above/Below 50k\"].value_counts(normalize=True))"
      ],
      "metadata": {
        "colab": {
          "base_uri": "https://localhost:8080/"
        },
        "id": "_G9v2tGPidqr",
        "outputId": "07bcf8c4-3772-45a6-a345-e4ae8b653c21"
      },
      "execution_count": null,
      "outputs": [
        {
          "output_type": "stream",
          "name": "stdout",
          "text": [
            "count      32561\n",
            "unique         2\n",
            "top        <=50K\n",
            "freq       24720\n",
            "Name: Above/Below 50k, dtype: object\n",
            " <=50K    24720\n",
            " >50K      7841\n",
            "Name: Above/Below 50k, dtype: int64\n",
            " <=50K    0.75919\n",
            " >50K     0.24081\n",
            "Name: Above/Below 50k, dtype: float64\n"
          ]
        }
      ]
    },
    {
      "cell_type": "markdown",
      "source": [
        "## Categorical data in pandas"
      ],
      "metadata": {
        "id": "BR5UyerFiqMD"
      }
    },
    {
      "cell_type": "markdown",
      "source": [
        "### Exercise 1."
      ],
      "metadata": {
        "id": "kqOZ7Y8RiqME"
      }
    },
    {
      "cell_type": "markdown",
      "source": [
        "**Setting dtypes and saving memory**\n",
        "\n",
        "A colleague of yours is exploring a list of occupations and how they relate to salary. She has given you a list of these occupations, list_of_occupations, and has a few simple questions such as \"How many different titles are there?\" and \"Which position is the most common?\".\n",
        "\n",
        "* Create a pandas Series, series1, using the list_of_occupations (do not set the dtype).\n",
        "* Print both the data type and number of bytes used of this new Series.\n",
        "* Create a second pandas Series, series2, using the list_of_occupations and set the dtype to \"category\".\n",
        "* Print both the data type and number of bytes used of this new Series."
      ],
      "metadata": {
        "id": "tUDll4CfiqME"
      }
    },
    {
      "cell_type": "code",
      "source": [
        "# Data preparation\n",
        "list_of_occupations = adult['Occupation']"
      ],
      "metadata": {
        "id": "XDqJQ83z7udT"
      },
      "execution_count": null,
      "outputs": []
    },
    {
      "cell_type": "code",
      "source": [
        "# Create a Series, default dtype\n",
        "series1 = pd.Series(list_of_occupations)\n",
        "\n",
        "# Print out the data type and number of bytes for series1\n",
        "print(\"series1 data type:\", series1.dtype)\n",
        "print(\"series1 number of bytes:\", series1.nbytes)\n",
        "\n",
        "# Create a Series, \"category\" dtype\n",
        "series2 = pd.Series(list_of_occupations, dtype=\"category\")\n",
        "\n",
        "# Print out the data type and number of bytes for series2\n",
        "print(\"series2 data type:\", series2.dtype)\n",
        "print(\"series2 number of bytes:\", series2.nbytes)"
      ],
      "metadata": {
        "colab": {
          "base_uri": "https://localhost:8080/"
        },
        "id": "Qthen1K5iqMF",
        "outputId": "8d5c9814-4196-4612-e2cd-bba22a9ff977"
      },
      "execution_count": null,
      "outputs": [
        {
          "output_type": "stream",
          "name": "stdout",
          "text": [
            "series1 data type: object\n",
            "series1 number of bytes: 260488\n",
            "series2 data type: category\n",
            "series2 number of bytes: 32681\n"
          ]
        }
      ]
    },
    {
      "cell_type": "markdown",
      "source": [
        "### Exercise 2."
      ],
      "metadata": {
        "id": "U-n68lzMiqMF"
      }
    },
    {
      "cell_type": "markdown",
      "source": [
        "**Creating a categorical pandas Series**\n",
        "\n",
        "Another colleague at work has collected information on the number of \"Gold\", \"Silver\", and \"Bronze\" medals won by the USA at the Summer & Winter Olympics since 1896. She has provided this as a list, medals_won. Before taking a look at the total number of each medal won, you want to create a categorical pandas Series. However, you know that these medals have a specific order to them and that Gold is better than Silver, but Silver is better than Bronze. Use the object, medals_won, to help.\n",
        "\n",
        "* Create a categorical pandas Series without using pd.Series().\n",
        "* Specify the three known medal categories such that \"Bronze\" < \"Silver\" < \"Gold\".\n",
        "* Specify that the order of the categories is important when creating this Series."
      ],
      "metadata": {
        "id": "ZGxyqNPNiqMF"
      }
    },
    {
      "cell_type": "code",
      "source": [
        "# Create a categorical Series and specify the categories (let pandas know the order matters!)\n",
        "#medals = pd.Categorical(medals_won, categories=['Bronze', 'Silver', 'Gold'], ordered=True)\n",
        "#print(medals)"
      ],
      "metadata": {
        "id": "axxPuW6hiqMF"
      },
      "execution_count": null,
      "outputs": []
    },
    {
      "cell_type": "markdown",
      "source": [
        "### Exercise 3."
      ],
      "metadata": {
        "id": "FGPXi04RiqMG"
      }
    },
    {
      "cell_type": "markdown",
      "source": [
        "**Setting dtype when reading data**\n",
        "\n",
        "You are preparing to create a machine learning model to predict a person's income category using the adult census income dataset. You don't have access to any cloud resources and you want to make sure that your laptop will be able to load the full dataset and process its contents. You have read in the first five rows of the dataset adult to help you understand what kind of columns are available.\n",
        "\n",
        "* Call the correct attribute on the adult DataFrame to review the data types.\n",
        "* Create a dictionary with keys: \"Workclass\", \"Education\", \"Relationship\", and \"Above/Below 50k\".\n",
        "* Set the value for each key to be \"category\"\n",
        "* Use the newly created dictionary, adult_dtypes, when reading in adult.csv"
      ],
      "metadata": {
        "id": "RkhI7uYeiqMG"
      }
    },
    {
      "cell_type": "code",
      "source": [
        "# Check the dtypes\n",
        "print(adult.dtypes)\n",
        "\n",
        "# Create a dictionary with column names as keys and \"category\" as values\n",
        "adult_dtypes = {\n",
        "   \"Workclass\": \"category\",\n",
        "   \"Education\": \"category\",\n",
        "   \"Relationship\": \"category\",\n",
        "   \"Above/Below 50k\": \"category\"\n",
        "}\n",
        "\n",
        "# Read in the CSV using the dtypes parameter\n",
        "adult2 = pd.read_csv(\n",
        "  PATH+\"adult.csv\",\n",
        "  dtype=adult_dtypes\n",
        ")\n",
        "print(adult2.dtypes)"
      ],
      "metadata": {
        "colab": {
          "base_uri": "https://localhost:8080/"
        },
        "id": "8PwW7LkhiqMG",
        "outputId": "872f713f-31dc-4904-da05-33803045ba2a"
      },
      "execution_count": null,
      "outputs": [
        {
          "output_type": "stream",
          "name": "stdout",
          "text": [
            "Age                 int64\n",
            "Workclass          object\n",
            "fnlgwt              int64\n",
            "Education          object\n",
            "Education Num       int64\n",
            "Marital Status     object\n",
            "Occupation         object\n",
            "Relationship       object\n",
            "Race               object\n",
            "Sex                object\n",
            "Capital Gain        int64\n",
            "Capital Loss        int64\n",
            "Hours/Week          int64\n",
            "Country            object\n",
            "Above/Below 50k    object\n",
            "dtype: object\n",
            "Age                   int64\n",
            "Workclass          category\n",
            "fnlgwt                int64\n",
            "Education          category\n",
            "Education Num         int64\n",
            "Marital Status       object\n",
            "Occupation           object\n",
            "Relationship       category\n",
            "Race                 object\n",
            "Sex                  object\n",
            "Capital Gain          int64\n",
            "Capital Loss          int64\n",
            "Hours/Week            int64\n",
            "Country              object\n",
            "Above/Below 50k    category\n",
            "dtype: object\n"
          ]
        }
      ]
    },
    {
      "cell_type": "markdown",
      "source": [
        "## Grouping data by category in pandas"
      ],
      "metadata": {
        "id": "YIIGyA0virfc"
      }
    },
    {
      "cell_type": "markdown",
      "source": [
        "### Exercise 1."
      ],
      "metadata": {
        "id": "B1I1yzpvirfc"
      }
    },
    {
      "cell_type": "markdown",
      "source": [
        "**Create lots of groups**\n",
        "\n",
        "You want to find the mean Age of adults when grouping by the following categories:\n",
        "\n",
        "* \"Workclass\" (which has 9 categories)\n",
        "* \"Above/Below 50k\" (which has 2 categories)\n",
        "* \"Education\" (which has 16 categories).\n",
        "\n",
        "You have developed the following bit of code:\n",
        "\n",
        "> gb = adult.groupby(by=[ \"Workclass\",  \n",
        "                        \"Above/Below 50k\",   \n",
        "                        \"Education\"])  \n",
        "\n",
        "* Question: How many groups are in the gb object and what is the maximum possible number of groups that could have been created? The dataset adult, and the gb object have been preloaded for you.\n",
        "* Answer: 208 are created out of 288 possible groups."
      ],
      "metadata": {
        "id": "SKtNOwZWirfd"
      }
    },
    {
      "cell_type": "code",
      "source": [
        "adult.groupby(by=[ \"Workclass\", \"Above/Below 50k\", \"Education\"]).size()"
      ],
      "metadata": {
        "colab": {
          "base_uri": "https://localhost:8080/"
        },
        "id": "Ni2GxMTDirfd",
        "outputId": "564c7719-609f-41da-8719-358b4fa44058"
      },
      "execution_count": null,
      "outputs": [
        {
          "output_type": "execute_result",
          "data": {
            "text/plain": [
              "Workclass     Above/Below 50k  Education    \n",
              " ?             <=50K            10th             98\n",
              "                                11th            118\n",
              "                                12th             38\n",
              "                                1st-4th          12\n",
              "                                5th-6th          28\n",
              "                                               ... \n",
              " State-gov     >50K             Some-college     31\n",
              " Without-pay   <=50K            7th-8th           1\n",
              "                                Assoc-acdm        1\n",
              "                                HS-grad           9\n",
              "                                Some-college      3\n",
              "Length: 208, dtype: int64"
            ]
          },
          "metadata": {},
          "execution_count": 9
        }
      ]
    },
    {
      "cell_type": "markdown",
      "source": [
        "### Exercise 2."
      ],
      "metadata": {
        "id": "S0gDzAUdirfd"
      }
    },
    {
      "cell_type": "markdown",
      "source": [
        "**Setting up a .groupby() statement**\n",
        "\n",
        "The gender wage gap is a hot-topic item in the United States and across the world. Using the adult census income dataset, loaded as adult, you want to check if some of the recently published data lines up with this income survey.\n",
        "\n",
        "* Split the adult dataset across the \"Sex\" and \"Above/Below 50k\" columns, saving this object as gb.\n",
        "* Print out the number of observations found in each group.\n",
        "* Using gb, find the average of each numerical column."
      ],
      "metadata": {
        "id": "lkWwOZtNirfd"
      }
    },
    {
      "cell_type": "code",
      "source": [
        "# Group the adult dataset by \"Sex\" and \"Above/Below 50k\"\n",
        "gb = adult.groupby(by=['Sex', 'Above/Below 50k'])\n",
        "\n",
        "# Print out how many rows are in each created group\n",
        "print(gb.size())\n",
        "\n",
        "# Print out the mean of each group for all columns\n",
        "print(gb.mean())"
      ],
      "metadata": {
        "colab": {
          "base_uri": "https://localhost:8080/"
        },
        "id": "ZLnymgddirfd",
        "outputId": "a5649858-88d9-46dc-94c8-3043bd16d912"
      },
      "execution_count": null,
      "outputs": [
        {
          "output_type": "stream",
          "name": "stdout",
          "text": [
            "Sex      Above/Below 50k\n",
            " Female   <=50K              9592\n",
            "          >50K               1179\n",
            " Male     <=50K             15128\n",
            "          >50K               6662\n",
            "dtype: int64\n",
            "                               Age         fnlgwt  Education Num  \\\n",
            "Sex     Above/Below 50k                                            \n",
            " Female  <=50K           36.210801  185999.381359       9.820475   \n",
            "         >50K            42.125530  183687.406277      11.787108   \n",
            " Male    <=50K           37.147012  193093.609268       9.452142   \n",
            "         >50K            44.625788  188769.101321      11.580606   \n",
            "\n",
            "                         Capital Gain  Capital Loss  Hours/Week  \n",
            "Sex     Above/Below 50k                                          \n",
            " Female  <=50K             121.986134     47.364470   35.916701  \n",
            "         >50K             4200.389313    173.648855   40.426633  \n",
            " Male    <=50K             165.723823     56.806782   40.693879  \n",
            "         >50K             3971.765836    198.780396   46.366106  \n"
          ]
        },
        {
          "output_type": "stream",
          "name": "stderr",
          "text": [
            "<ipython-input-10-37a06cb2cdac>:8: FutureWarning: The default value of numeric_only in DataFrameGroupBy.mean is deprecated. In a future version, numeric_only will default to False. Either specify numeric_only or select only columns which should be valid for the function.\n",
            "  print(gb.mean())\n"
          ]
        }
      ]
    },
    {
      "cell_type": "markdown",
      "source": [
        "### Exercise 3."
      ],
      "metadata": {
        "id": "nYbCzHlMirfe"
      }
    },
    {
      "cell_type": "markdown",
      "source": [
        "**Using pandas functions effectively**\n",
        "\n",
        "You are creating a Python application that will calculate summary statistics based on user-selected variables. The complete dataset is quite large. For now, you are setting up your code using part of the dataset, preloaded as adult. As you create a reusable process, make sure you are thinking through the most efficient way to setup the GroupBy object.\n",
        "\n",
        "* Create a list of the names for two user-selected variables: \"Education\" and \"Above/Below 50k\".\n",
        "* Create a GroupBy object, gb, using the user_list as the grouping variables.\n",
        "* Calculate the mean of \"Hours/Week\" across each group using the most efficient approach covered in the video."
      ],
      "metadata": {
        "id": "zTEjoPOsirfe"
      }
    },
    {
      "cell_type": "code",
      "source": [
        "# Create a list of user-selected variables\n",
        "user_list = ['Education', 'Above/Below 50k']\n",
        "\n",
        "# Create a GroupBy object using this list\n",
        "gb = adult.groupby(by=user_list)\n",
        "\n",
        "# Find the mean for the variable \"Hours/Week\" for each group - Be efficient!\n",
        "print(gb['Hours/Week'].mean())"
      ],
      "metadata": {
        "colab": {
          "base_uri": "https://localhost:8080/"
        },
        "id": "2IFOwhw5irfe",
        "outputId": "3d159cbd-54ef-4644-d762-780f4053ab3e"
      },
      "execution_count": null,
      "outputs": [
        {
          "output_type": "stream",
          "name": "stdout",
          "text": [
            "Education      Above/Below 50k\n",
            " 10th           <=50K             36.574053\n",
            "                >50K              43.774194\n",
            " 11th           <=50K             33.322870\n",
            "                >50K              45.133333\n",
            " 12th           <=50K             35.035000\n",
            "                >50K              44.818182\n",
            " 1st-4th        <=50K             37.864198\n",
            "                >50K              48.833333\n",
            " 5th-6th        <=50K             38.539432\n",
            "                >50K              46.000000\n",
            " 7th-8th        <=50K             38.830033\n",
            "                >50K              47.500000\n",
            " 9th            <=50K             37.667351\n",
            "                >50K              44.851852\n",
            " Assoc-acdm     <=50K             39.264339\n",
            "                >50K              44.256604\n",
            " Assoc-voc      <=50K             40.817826\n",
            "                >50K              43.853186\n",
            " Bachelors      <=50K             40.586152\n",
            "                >50K              45.475462\n",
            " Doctorate      <=50K             45.429907\n",
            "                >50K              47.513072\n",
            " HS-grad        <=50K             39.727510\n",
            "                >50K              45.042985\n",
            " Masters        <=50K             41.223822\n",
            "                >50K              45.917623\n",
            " Preschool      <=50K             36.647059\n",
            " Prof-school    <=50K             42.816993\n",
            "                >50K              49.092199\n",
            " Some-college   <=50K             37.450203\n",
            "                >50K              44.820476\n",
            "Name: Hours/Week, dtype: float64\n"
          ]
        }
      ]
    },
    {
      "cell_type": "markdown",
      "source": [
        "# Chapter 2. Categorical pandas Series"
      ],
      "metadata": {
        "id": "N0WmZ5RJiwf8"
      }
    },
    {
      "cell_type": "markdown",
      "source": [
        "## Setting category variables"
      ],
      "metadata": {
        "id": "ehqwhGz3iwgC"
      }
    },
    {
      "cell_type": "markdown",
      "source": [
        "### Exercise 1."
      ],
      "metadata": {
        "id": "oVZ7-rrpiwgC"
      }
    },
    {
      "cell_type": "markdown",
      "source": [
        "**Adding categories**\n",
        "\n",
        "The owner of a local dog adoption agency has listings for almost 3,000 dogs. One of the most common questions they have been receiving lately is: \"What type of area was the dog previously kept in?\". You are setting up a pipeline to do some analysis and want to look into what information is available regarding the \"keep_in\" variable. Both pandas, as pd, and the dogs dataset have been preloaded.\n",
        "\n",
        "* Print the frequency of the responses in the \"keep_in\" variable and make sure the count of NaN values are shown.\n",
        "* Convert the \"keep_in\" variable to a categorical Series.\n",
        "* Add the list of new categories provided by the adoption agency, new_categories, to the \"keep_in\" column.\n",
        "* Print the frequency counts of the keep_in column and do not drop NaN values."
      ],
      "metadata": {
        "id": "S3QbUbeIiwgC"
      }
    },
    {
      "cell_type": "code",
      "source": [
        "# Check frequency counts while also printing the NaN count\n",
        "print(dogs[\"keep_in\"].value_counts(dropna=False))\n",
        "\n",
        "# Switch to a categorical variable\n",
        "dogs[\"keep_in\"] = dogs[\"keep_in\"].astype(\"category\")\n",
        "\n",
        "# Add new categories\n",
        "new_categories = [\"Unknown History\", \"Open Yard (Countryside)\"]\n",
        "dogs[\"keep_in\"] = dogs[\"keep_in\"].cat.add_categories(new_categories)\n",
        "\n",
        "# Check frequency counts one more time\n",
        "print(dogs[\"keep_in\"].value_counts(dropna=False))"
      ],
      "metadata": {
        "colab": {
          "base_uri": "https://localhost:8080/"
        },
        "id": "6kg2XLHyiwgD",
        "outputId": "8fd86da1-3609-4a34-8d4c-70fef4929ccb"
      },
      "execution_count": null,
      "outputs": [
        {
          "output_type": "stream",
          "name": "stdout",
          "text": [
            "both flat and garden    1224\n",
            "NaN                     1021\n",
            "garden                   510\n",
            "flat                     182\n",
            "Name: keep_in, dtype: int64\n",
            "both flat and garden       1224\n",
            "NaN                        1021\n",
            "garden                      510\n",
            "flat                        182\n",
            "Unknown History               0\n",
            "Open Yard (Countryside)       0\n",
            "Name: keep_in, dtype: int64\n"
          ]
        }
      ]
    },
    {
      "cell_type": "markdown",
      "source": [
        "### Exercise 2."
      ],
      "metadata": {
        "id": "f-qqqPqKiwgD"
      }
    },
    {
      "cell_type": "markdown",
      "source": [
        "**Removing categories**\n",
        "\n",
        "Before adopting dogs, parents might want to know whether or not a new dog likes children. When looking at the adoptable dogs dataset, dogs, you notice that the frequency of responses for the categorical Series \"likes_children\" looks like this:\n",
        "\n",
        "> maybe     1718  \n",
        "yes       1172  \n",
        "no          47\n",
        "\n",
        "The owner of the data wants to convert all \"maybe\" responses to \"no\", as it would be unsafe to let a family adapt a dog if it doesn't like children. The code to convert all \"maybe\" to \"no\" is provided in Step 1. However, the option for \"maybe\" still remains as a category.\n",
        "\n",
        "* Print out the categories of the categorical Series dogs[\"likes_children\"].\n",
        "* Print out the frequency table for \"likes_children\" to see if any \"maybe\" responses remain.\n",
        "* Remove the \"maybe\" category from the Series.\n",
        "* Print out the categories of \"likes_children\" one more time."
      ],
      "metadata": {
        "id": "AWu9xczQiwgD"
      }
    },
    {
      "cell_type": "code",
      "source": [
        "# Set \"maybe\" to be \"no\"\n",
        "dogs.loc[dogs[\"likes_children\"] == \"maybe\", \"likes_children\"] = \"no\"\n",
        "\n",
        "# Print out categories\n",
        "print(dogs[\"likes_children\"].cat.categories)\n",
        "\n",
        "# Print the frequency table\n",
        "print(dogs[\"likes_children\"].value_counts())\n",
        "\n",
        "# Remove the `\"maybe\" category\n",
        "#dogs[\"likes_children\"] = dogs[\"likes_children\"].cat.remove_categories([\"maybe\"])\n",
        "print(dogs[\"likes_children\"].value_counts())\n",
        "\n",
        "# Print the categories one more time\n",
        "print(dogs[\"likes_children\"].cat.categories)"
      ],
      "metadata": {
        "colab": {
          "base_uri": "https://localhost:8080/"
        },
        "id": "9lDGejdUiwgD",
        "outputId": "ddd1a962-504e-456f-dfeb-014c3b3c1ff1"
      },
      "execution_count": null,
      "outputs": [
        {
          "output_type": "stream",
          "name": "stdout",
          "text": [
            "Index(['no', 'yes'], dtype='object')\n",
            "yes    1172\n",
            "no       47\n",
            "Name: likes_children, dtype: int64\n",
            "yes    1172\n",
            "no       47\n",
            "Name: likes_children, dtype: int64\n",
            "Index(['no', 'yes'], dtype='object')\n"
          ]
        }
      ]
    },
    {
      "cell_type": "markdown",
      "source": [
        "## Updating categories"
      ],
      "metadata": {
        "id": "18QULQaMiwgD"
      }
    },
    {
      "cell_type": "markdown",
      "source": [
        "### Exercise 1."
      ],
      "metadata": {
        "id": "85j_RxMziwgD"
      }
    },
    {
      "cell_type": "markdown",
      "source": [
        "**Renaming categories**\n",
        "\n",
        "The likes_children column of the adoptable dogs dataset needs an update. Here are the current frequency counts:\n",
        "\n",
        "> Maybe?    1718  \n",
        "yes       1172  \n",
        "no          47\n",
        "\n",
        "Two things that stick out are the differences in capitalization and the ? found in the Maybe? category. The data should be cleaner than this and you are being asked to make a few changes.\n",
        "\n",
        "* Create a dictionary called my_changes that will update the Maybe? category to Maybe.\n",
        "* Rename the categories in likes_children using the my_changes dictionary.\n",
        "* Update the categories one more time so that all categories are uppercase using the .upper() method.\n",
        "* Print out the categories of the updated likes_children Series."
      ],
      "metadata": {
        "id": "sxwYj0TgiwgE"
      }
    },
    {
      "cell_type": "code",
      "source": [
        "# Create the my_changes dictionary\n",
        "my_changes = {'Maybe?':'Maybe'} #no such category in the DataFrame.\n",
        "\n",
        "# Rename the categories listed in the my_changes dictionary\n",
        "dogs[\"likes_children\"] = dogs[\"likes_children\"].cat.rename_categories(my_changes)\n",
        "\n",
        "# Use a lambda function to convert all categories to uppercase using upper()\n",
        "dogs[\"likes_children\"] =  dogs[\"likes_children\"].cat.rename_categories(lambda c: c.upper())\n",
        "\n",
        "# Print the list of categories\n",
        "print(dogs[\"likes_children\"].cat.categories)"
      ],
      "metadata": {
        "colab": {
          "base_uri": "https://localhost:8080/"
        },
        "id": "3-uDJz-ViwgE",
        "outputId": "333e6360-408c-4493-c50b-93a8392134d7"
      },
      "execution_count": null,
      "outputs": [
        {
          "output_type": "stream",
          "name": "stdout",
          "text": [
            "Index(['NO', 'YES'], dtype='object')\n"
          ]
        }
      ]
    },
    {
      "cell_type": "markdown",
      "source": [
        "### Exercise 2."
      ],
      "metadata": {
        "id": "OC_V_hDsiwgE"
      }
    },
    {
      "cell_type": "markdown",
      "source": [
        "**Collapsing categories**\n",
        "\n",
        "One problem that users of a local dog adoption website have voiced is that there are too many options. As they look through the different types of dogs, they are getting lost in the overwhelming amount of choice. To simplify some of the data, you are going through each column and collapsing data if appropriate. To preserve the original data, you are going to make new updated columns in the dogs dataset. You will start with the coat column. The frequency table is listed here:\n",
        "\n",
        "> short          1969  \n",
        "medium          565  \n",
        "wirehaired      220  \n",
        "long            180  \n",
        "medium-long       3\n",
        "\n",
        "* Create a dictionary named update_coats to map both wirehaired and medium-long to medium.\n",
        "* Collapse the categories listed in this new dictionary and save this as a new column, coat_collapsed.\n",
        "* Convert this new column into a categorical Series.\n",
        "* Print the frequency table of this new Series."
      ],
      "metadata": {
        "id": "B5J5qE9xiwgE"
      }
    },
    {
      "cell_type": "code",
      "source": [
        "# Create the update_coats dictionary\n",
        "update_coats = {\"wirehaired\": \"medium\", \"medium-long\":\"medium\"}\n",
        "\n",
        "# Create a new column, coat_collapsed\n",
        "dogs[\"coat_collapsed\"] = dogs['coat'].replace(update_coats)\n",
        "\n",
        "# Convert the column to categorical\n",
        "dogs[\"coat_collapsed\"] = dogs[\"coat_collapsed\"].astype('category')\n",
        "\n",
        "# Print the frequency table\n",
        "print(dogs[\"coat_collapsed\"].value_counts())"
      ],
      "metadata": {
        "colab": {
          "base_uri": "https://localhost:8080/"
        },
        "id": "-PTG9_8IiwgE",
        "outputId": "2014a33b-61cc-4835-ca69-27a6b5819af3"
      },
      "execution_count": null,
      "outputs": [
        {
          "output_type": "stream",
          "name": "stdout",
          "text": [
            "short     1972\n",
            "medium     785\n",
            "long       180\n",
            "Name: coat_collapsed, dtype: int64\n"
          ]
        }
      ]
    },
    {
      "cell_type": "markdown",
      "source": [
        "## Reordering categories"
      ],
      "metadata": {
        "id": "BDwY0SfliwgF"
      }
    },
    {
      "cell_type": "markdown",
      "source": [
        "### Exercise 1."
      ],
      "metadata": {
        "id": "cOvmTIH6iwgF"
      }
    },
    {
      "cell_type": "markdown",
      "source": [
        "**Reordering categories in a Series**\n",
        "\n",
        "The owner of a local dog adoption agency has asked you take a look at her data on adoptable dogs. She is specifically interested in the size of the dogs in her dataset and wants to know if there are differences in other variables, given a dog's size. The adoptable dogs dataset has been loaded as dogs and the \"size\" variable has already been saved as a categorical column.\n",
        "\n",
        "* Print out the current categories of the \"size\" pandas Series.\n",
        "* Reorder categories in the \"size\" column using the categories \"small\", \"medium\", \"large\", do not set the ordered parameter.\n",
        "* Update the reorder_categories() method so that pandas knows the variable has a natural order.\n",
        "* Add a argument to the method so that the \"size\" column is updated without needing to save it to itself."
      ],
      "metadata": {
        "id": "4hmnno1KiwgF"
      }
    },
    {
      "cell_type": "code",
      "source": [
        "dogs['size'] = dogs['size'].astype('category')\n",
        "dogs.dtypes\n",
        "dogs.head()"
      ],
      "metadata": {
        "colab": {
          "base_uri": "https://localhost:8080/"
        },
        "id": "U4vQwdfABZ4q",
        "outputId": "bbd431fc-4491-4735-a56d-016c25480021"
      },
      "execution_count": null,
      "outputs": [
        {
          "output_type": "execute_result",
          "data": {
            "text/plain": [
              "      ID            name   age     sex               breed date_found  \\\n",
              "0  23807            Gida  0.25  female         Unknown Mix   12/10/19   \n",
              "1    533  Frida És Ricsi  0.17  female         Unknown Mix    12/1/19   \n",
              "2  23793             NaN  4.00    male         Unknown Mix    12/8/19   \n",
              "3  23795             NaN  1.00    male         Unknown Mix    12/8/19   \n",
              "4  23806             Amy  2.00  female  French Bulldog Mix   12/10/19   \n",
              "\n",
              "  adoptable_from    posted            color    coat    size neutered  \\\n",
              "0       12/11/19  12/11/19              red   short   small       no   \n",
              "1        12/1/19   12/9/19  black and white   short   small       no   \n",
              "2       12/23/19   12/8/19      saddle back   short  medium       no   \n",
              "3       12/23/19   12/8/19     yellow-brown  medium  medium       no   \n",
              "4       12/11/19  12/11/19            black   short   small       no   \n",
              "\n",
              "  housebroken likes_people likes_children get_along_males get_along_females  \\\n",
              "0         NaN          NaN            NaN             NaN               NaN   \n",
              "1         NaN          yes            YES             yes               yes   \n",
              "2         NaN          NaN            NaN             NaN               NaN   \n",
              "3         NaN          NaN            NaN             NaN               NaN   \n",
              "4         NaN          NaN            NaN             NaN               NaN   \n",
              "\n",
              "  get_along_cats keep_in coat_collapsed  \n",
              "0            NaN     NaN          short  \n",
              "1            yes     NaN          short  \n",
              "2            NaN     NaN          short  \n",
              "3            NaN     NaN         medium  \n",
              "4            NaN     NaN          short  "
            ],
            "text/html": [
              "\n",
              "\n",
              "  <div id=\"df-5a011c53-7dbf-45c2-a5e3-a95ab4e0356a\">\n",
              "    <div class=\"colab-df-container\">\n",
              "      <div>\n",
              "<style scoped>\n",
              "    .dataframe tbody tr th:only-of-type {\n",
              "        vertical-align: middle;\n",
              "    }\n",
              "\n",
              "    .dataframe tbody tr th {\n",
              "        vertical-align: top;\n",
              "    }\n",
              "\n",
              "    .dataframe thead th {\n",
              "        text-align: right;\n",
              "    }\n",
              "</style>\n",
              "<table border=\"1\" class=\"dataframe\">\n",
              "  <thead>\n",
              "    <tr style=\"text-align: right;\">\n",
              "      <th></th>\n",
              "      <th>ID</th>\n",
              "      <th>name</th>\n",
              "      <th>age</th>\n",
              "      <th>sex</th>\n",
              "      <th>breed</th>\n",
              "      <th>date_found</th>\n",
              "      <th>adoptable_from</th>\n",
              "      <th>posted</th>\n",
              "      <th>color</th>\n",
              "      <th>coat</th>\n",
              "      <th>size</th>\n",
              "      <th>neutered</th>\n",
              "      <th>housebroken</th>\n",
              "      <th>likes_people</th>\n",
              "      <th>likes_children</th>\n",
              "      <th>get_along_males</th>\n",
              "      <th>get_along_females</th>\n",
              "      <th>get_along_cats</th>\n",
              "      <th>keep_in</th>\n",
              "      <th>coat_collapsed</th>\n",
              "    </tr>\n",
              "  </thead>\n",
              "  <tbody>\n",
              "    <tr>\n",
              "      <th>0</th>\n",
              "      <td>23807</td>\n",
              "      <td>Gida</td>\n",
              "      <td>0.25</td>\n",
              "      <td>female</td>\n",
              "      <td>Unknown Mix</td>\n",
              "      <td>12/10/19</td>\n",
              "      <td>12/11/19</td>\n",
              "      <td>12/11/19</td>\n",
              "      <td>red</td>\n",
              "      <td>short</td>\n",
              "      <td>small</td>\n",
              "      <td>no</td>\n",
              "      <td>NaN</td>\n",
              "      <td>NaN</td>\n",
              "      <td>NaN</td>\n",
              "      <td>NaN</td>\n",
              "      <td>NaN</td>\n",
              "      <td>NaN</td>\n",
              "      <td>NaN</td>\n",
              "      <td>short</td>\n",
              "    </tr>\n",
              "    <tr>\n",
              "      <th>1</th>\n",
              "      <td>533</td>\n",
              "      <td>Frida És Ricsi</td>\n",
              "      <td>0.17</td>\n",
              "      <td>female</td>\n",
              "      <td>Unknown Mix</td>\n",
              "      <td>12/1/19</td>\n",
              "      <td>12/1/19</td>\n",
              "      <td>12/9/19</td>\n",
              "      <td>black and white</td>\n",
              "      <td>short</td>\n",
              "      <td>small</td>\n",
              "      <td>no</td>\n",
              "      <td>NaN</td>\n",
              "      <td>yes</td>\n",
              "      <td>YES</td>\n",
              "      <td>yes</td>\n",
              "      <td>yes</td>\n",
              "      <td>yes</td>\n",
              "      <td>NaN</td>\n",
              "      <td>short</td>\n",
              "    </tr>\n",
              "    <tr>\n",
              "      <th>2</th>\n",
              "      <td>23793</td>\n",
              "      <td>NaN</td>\n",
              "      <td>4.00</td>\n",
              "      <td>male</td>\n",
              "      <td>Unknown Mix</td>\n",
              "      <td>12/8/19</td>\n",
              "      <td>12/23/19</td>\n",
              "      <td>12/8/19</td>\n",
              "      <td>saddle back</td>\n",
              "      <td>short</td>\n",
              "      <td>medium</td>\n",
              "      <td>no</td>\n",
              "      <td>NaN</td>\n",
              "      <td>NaN</td>\n",
              "      <td>NaN</td>\n",
              "      <td>NaN</td>\n",
              "      <td>NaN</td>\n",
              "      <td>NaN</td>\n",
              "      <td>NaN</td>\n",
              "      <td>short</td>\n",
              "    </tr>\n",
              "    <tr>\n",
              "      <th>3</th>\n",
              "      <td>23795</td>\n",
              "      <td>NaN</td>\n",
              "      <td>1.00</td>\n",
              "      <td>male</td>\n",
              "      <td>Unknown Mix</td>\n",
              "      <td>12/8/19</td>\n",
              "      <td>12/23/19</td>\n",
              "      <td>12/8/19</td>\n",
              "      <td>yellow-brown</td>\n",
              "      <td>medium</td>\n",
              "      <td>medium</td>\n",
              "      <td>no</td>\n",
              "      <td>NaN</td>\n",
              "      <td>NaN</td>\n",
              "      <td>NaN</td>\n",
              "      <td>NaN</td>\n",
              "      <td>NaN</td>\n",
              "      <td>NaN</td>\n",
              "      <td>NaN</td>\n",
              "      <td>medium</td>\n",
              "    </tr>\n",
              "    <tr>\n",
              "      <th>4</th>\n",
              "      <td>23806</td>\n",
              "      <td>Amy</td>\n",
              "      <td>2.00</td>\n",
              "      <td>female</td>\n",
              "      <td>French Bulldog Mix</td>\n",
              "      <td>12/10/19</td>\n",
              "      <td>12/11/19</td>\n",
              "      <td>12/11/19</td>\n",
              "      <td>black</td>\n",
              "      <td>short</td>\n",
              "      <td>small</td>\n",
              "      <td>no</td>\n",
              "      <td>NaN</td>\n",
              "      <td>NaN</td>\n",
              "      <td>NaN</td>\n",
              "      <td>NaN</td>\n",
              "      <td>NaN</td>\n",
              "      <td>NaN</td>\n",
              "      <td>NaN</td>\n",
              "      <td>short</td>\n",
              "    </tr>\n",
              "  </tbody>\n",
              "</table>\n",
              "</div>\n",
              "      <button class=\"colab-df-convert\" onclick=\"convertToInteractive('df-5a011c53-7dbf-45c2-a5e3-a95ab4e0356a')\"\n",
              "              title=\"Convert this dataframe to an interactive table.\"\n",
              "              style=\"display:none;\">\n",
              "\n",
              "  <svg xmlns=\"http://www.w3.org/2000/svg\" height=\"24px\"viewBox=\"0 0 24 24\"\n",
              "       width=\"24px\">\n",
              "    <path d=\"M0 0h24v24H0V0z\" fill=\"none\"/>\n",
              "    <path d=\"M18.56 5.44l.94 2.06.94-2.06 2.06-.94-2.06-.94-.94-2.06-.94 2.06-2.06.94zm-11 1L8.5 8.5l.94-2.06 2.06-.94-2.06-.94L8.5 2.5l-.94 2.06-2.06.94zm10 10l.94 2.06.94-2.06 2.06-.94-2.06-.94-.94-2.06-.94 2.06-2.06.94z\"/><path d=\"M17.41 7.96l-1.37-1.37c-.4-.4-.92-.59-1.43-.59-.52 0-1.04.2-1.43.59L10.3 9.45l-7.72 7.72c-.78.78-.78 2.05 0 2.83L4 21.41c.39.39.9.59 1.41.59.51 0 1.02-.2 1.41-.59l7.78-7.78 2.81-2.81c.8-.78.8-2.07 0-2.86zM5.41 20L4 18.59l7.72-7.72 1.47 1.35L5.41 20z\"/>\n",
              "  </svg>\n",
              "      </button>\n",
              "\n",
              "\n",
              "\n",
              "    <div id=\"df-35baf54e-f033-49d9-9829-a2da278b538d\">\n",
              "      <button class=\"colab-df-quickchart\" onclick=\"quickchart('df-35baf54e-f033-49d9-9829-a2da278b538d')\"\n",
              "              title=\"Suggest charts.\"\n",
              "              style=\"display:none;\">\n",
              "\n",
              "<svg xmlns=\"http://www.w3.org/2000/svg\" height=\"24px\"viewBox=\"0 0 24 24\"\n",
              "     width=\"24px\">\n",
              "    <g>\n",
              "        <path d=\"M19 3H5c-1.1 0-2 .9-2 2v14c0 1.1.9 2 2 2h14c1.1 0 2-.9 2-2V5c0-1.1-.9-2-2-2zM9 17H7v-7h2v7zm4 0h-2V7h2v10zm4 0h-2v-4h2v4z\"/>\n",
              "    </g>\n",
              "</svg>\n",
              "      </button>\n",
              "    </div>\n",
              "\n",
              "<style>\n",
              "  .colab-df-quickchart {\n",
              "    background-color: #E8F0FE;\n",
              "    border: none;\n",
              "    border-radius: 50%;\n",
              "    cursor: pointer;\n",
              "    display: none;\n",
              "    fill: #1967D2;\n",
              "    height: 32px;\n",
              "    padding: 0 0 0 0;\n",
              "    width: 32px;\n",
              "  }\n",
              "\n",
              "  .colab-df-quickchart:hover {\n",
              "    background-color: #E2EBFA;\n",
              "    box-shadow: 0px 1px 2px rgba(60, 64, 67, 0.3), 0px 1px 3px 1px rgba(60, 64, 67, 0.15);\n",
              "    fill: #174EA6;\n",
              "  }\n",
              "\n",
              "  [theme=dark] .colab-df-quickchart {\n",
              "    background-color: #3B4455;\n",
              "    fill: #D2E3FC;\n",
              "  }\n",
              "\n",
              "  [theme=dark] .colab-df-quickchart:hover {\n",
              "    background-color: #434B5C;\n",
              "    box-shadow: 0px 1px 3px 1px rgba(0, 0, 0, 0.15);\n",
              "    filter: drop-shadow(0px 1px 2px rgba(0, 0, 0, 0.3));\n",
              "    fill: #FFFFFF;\n",
              "  }\n",
              "</style>\n",
              "\n",
              "    <script>\n",
              "      async function quickchart(key) {\n",
              "        const containerElement = document.querySelector('#' + key);\n",
              "        const charts = await google.colab.kernel.invokeFunction(\n",
              "            'suggestCharts', [key], {});\n",
              "      }\n",
              "    </script>\n",
              "\n",
              "      <script>\n",
              "\n",
              "function displayQuickchartButton(domScope) {\n",
              "  let quickchartButtonEl =\n",
              "    domScope.querySelector('#df-35baf54e-f033-49d9-9829-a2da278b538d button.colab-df-quickchart');\n",
              "  quickchartButtonEl.style.display =\n",
              "    google.colab.kernel.accessAllowed ? 'block' : 'none';\n",
              "}\n",
              "\n",
              "        displayQuickchartButton(document);\n",
              "      </script>\n",
              "      <style>\n",
              "    .colab-df-container {\n",
              "      display:flex;\n",
              "      flex-wrap:wrap;\n",
              "      gap: 12px;\n",
              "    }\n",
              "\n",
              "    .colab-df-convert {\n",
              "      background-color: #E8F0FE;\n",
              "      border: none;\n",
              "      border-radius: 50%;\n",
              "      cursor: pointer;\n",
              "      display: none;\n",
              "      fill: #1967D2;\n",
              "      height: 32px;\n",
              "      padding: 0 0 0 0;\n",
              "      width: 32px;\n",
              "    }\n",
              "\n",
              "    .colab-df-convert:hover {\n",
              "      background-color: #E2EBFA;\n",
              "      box-shadow: 0px 1px 2px rgba(60, 64, 67, 0.3), 0px 1px 3px 1px rgba(60, 64, 67, 0.15);\n",
              "      fill: #174EA6;\n",
              "    }\n",
              "\n",
              "    [theme=dark] .colab-df-convert {\n",
              "      background-color: #3B4455;\n",
              "      fill: #D2E3FC;\n",
              "    }\n",
              "\n",
              "    [theme=dark] .colab-df-convert:hover {\n",
              "      background-color: #434B5C;\n",
              "      box-shadow: 0px 1px 3px 1px rgba(0, 0, 0, 0.15);\n",
              "      filter: drop-shadow(0px 1px 2px rgba(0, 0, 0, 0.3));\n",
              "      fill: #FFFFFF;\n",
              "    }\n",
              "  </style>\n",
              "\n",
              "      <script>\n",
              "        const buttonEl =\n",
              "          document.querySelector('#df-5a011c53-7dbf-45c2-a5e3-a95ab4e0356a button.colab-df-convert');\n",
              "        buttonEl.style.display =\n",
              "          google.colab.kernel.accessAllowed ? 'block' : 'none';\n",
              "\n",
              "        async function convertToInteractive(key) {\n",
              "          const element = document.querySelector('#df-5a011c53-7dbf-45c2-a5e3-a95ab4e0356a');\n",
              "          const dataTable =\n",
              "            await google.colab.kernel.invokeFunction('convertToInteractive',\n",
              "                                                     [key], {});\n",
              "          if (!dataTable) return;\n",
              "\n",
              "          const docLinkHtml = 'Like what you see? Visit the ' +\n",
              "            '<a target=\"_blank\" href=https://colab.research.google.com/notebooks/data_table.ipynb>data table notebook</a>'\n",
              "            + ' to learn more about interactive tables.';\n",
              "          element.innerHTML = '';\n",
              "          dataTable['output_type'] = 'display_data';\n",
              "          await google.colab.output.renderOutput(dataTable, element);\n",
              "          const docLink = document.createElement('div');\n",
              "          docLink.innerHTML = docLinkHtml;\n",
              "          element.appendChild(docLink);\n",
              "        }\n",
              "      </script>\n",
              "    </div>\n",
              "  </div>\n"
            ]
          },
          "metadata": {},
          "execution_count": 16
        }
      ]
    },
    {
      "cell_type": "code",
      "source": [
        "# Print out the current categories of the size variable\n",
        "print(dogs[\"size\"].cat.categories)\n",
        "\n",
        "# Reorder the categories, specifying the Series is ordinal, and overwriting the original series\n",
        "dogs[\"size\"].cat.reorder_categories(\n",
        "  new_categories=[\"small\", \"medium\", \"large\"],\n",
        "  ordered=True,\n",
        "  inplace=True\n",
        ")"
      ],
      "metadata": {
        "colab": {
          "base_uri": "https://localhost:8080/"
        },
        "id": "DcDYYnaBiwgF",
        "outputId": "94d3424b-9a24-4be2-fd62-3a739cef9a64"
      },
      "execution_count": null,
      "outputs": [
        {
          "output_type": "stream",
          "name": "stdout",
          "text": [
            "Index(['large', 'medium', 'small'], dtype='object')\n"
          ]
        },
        {
          "output_type": "stream",
          "name": "stderr",
          "text": [
            "<ipython-input-17-80fb21c6fe2e>:5: FutureWarning: The `inplace` parameter in pandas.Categorical.reorder_categories is deprecated and will be removed in a future version. Reordering categories will always return a new Categorical object.\n",
            "  dogs[\"size\"].cat.reorder_categories(\n"
          ]
        }
      ]
    },
    {
      "cell_type": "markdown",
      "source": [
        "### Exercise 2."
      ],
      "metadata": {
        "id": "WILQ9CYsiwgF"
      }
    },
    {
      "cell_type": "markdown",
      "source": [
        "**Using .groupby() after reordering**\n",
        "\n",
        "It is now time to run some analyses on the adoptable dogs dataset that is focused on the \"size\" of the dog. You have already developed some code to reorder the categories. In this exercise, you will develop two similar .groupby() statements to help better understand the effect of \"size\" on other variables. dogs has been preloaded for you.\n",
        "\n",
        "* Print out the frequency table of \"sex\" for each category of the \"size\" column.\n",
        "* Print out the frequency table of \"keep_in\" for each category of the \"size\" column."
      ],
      "metadata": {
        "id": "y_xLxrEZiwgF"
      }
    },
    {
      "cell_type": "code",
      "source": [
        "# Previous code\n",
        "dogs[\"size\"].cat.reorder_categories(\n",
        "  new_categories=[\"small\", \"medium\", \"large\"],\n",
        "  ordered=True,\n",
        "  inplace=True\n",
        ")\n",
        "\n",
        "# How many Male/Female dogs are available of each size?\n",
        "print(dogs.groupby('size')['sex'].value_counts())\n",
        "\n",
        "# Do larger dogs need more room to roam?\n",
        "print(dogs.groupby('size')['keep_in'].value_counts())"
      ],
      "metadata": {
        "colab": {
          "base_uri": "https://localhost:8080/"
        },
        "id": "XLXeBLBPiwgF",
        "outputId": "58aaa25f-a6c8-4911-e0d5-1d15f41f6a8a"
      },
      "execution_count": null,
      "outputs": [
        {
          "output_type": "stream",
          "name": "stdout",
          "text": [
            "size    sex   \n",
            "small   male       260\n",
            "        female     214\n",
            "medium  male      1090\n",
            "        female     854\n",
            "large   male       331\n",
            "        female     188\n",
            "Name: sex, dtype: int64\n",
            "size    keep_in                \n",
            "small   both flat and garden       238\n",
            "        flat                        80\n",
            "        garden                      21\n",
            "        Unknown History              0\n",
            "        Open Yard (Countryside)      0\n",
            "medium  both flat and garden       795\n",
            "        garden                     317\n",
            "        flat                        97\n",
            "        Unknown History              0\n",
            "        Open Yard (Countryside)      0\n",
            "large   both flat and garden       191\n",
            "        garden                     172\n",
            "        flat                         5\n",
            "        Unknown History              0\n",
            "        Open Yard (Countryside)      0\n",
            "Name: keep_in, dtype: int64\n"
          ]
        },
        {
          "output_type": "stream",
          "name": "stderr",
          "text": [
            "<ipython-input-18-8b8ad19a9303>:2: FutureWarning: The `inplace` parameter in pandas.Categorical.reorder_categories is deprecated and will be removed in a future version. Reordering categories will always return a new Categorical object.\n",
            "  dogs[\"size\"].cat.reorder_categories(\n"
          ]
        }
      ]
    },
    {
      "cell_type": "markdown",
      "source": [
        "## Cleaning and accessing data"
      ],
      "metadata": {
        "id": "QY-hG8zeDOrj"
      }
    },
    {
      "cell_type": "markdown",
      "source": [
        "### Exercise 1."
      ],
      "metadata": {
        "id": "v7W4MN-zDOr0"
      }
    },
    {
      "cell_type": "markdown",
      "source": [
        "**Cleaning variables**\n",
        "\n",
        "Users of an online entry system used to have the ability to freely type in responses to questions. This is causing issues when trying to analyze the adoptable dogs dataset, dogs. Here is the current frequency table of the \"sex\" column:\n",
        "\n",
        "> male      1672  \n",
        "female    1249  \n",
        " MALE        10  \n",
        " FEMALE       5  \n",
        "Malez        1\n",
        "\n",
        "Now that the system only takes responses of \"female\" and \"male\", you want this variable to match the updated system.\n",
        "\n",
        "* Update the misspelled response \"Malez\" to be \"male\" by creating the replacement map, replace_map.\n",
        "* Replace all occurrences of \"Malez\" with \"male\" by using replace_map.\n",
        "* Remove the leading spaces of the \" MALE\" and \" FEMALE\" responses.\n",
        "* Convert all responses to be strictly lowercase.\n",
        "* Convert the \"sex\" column to a categorical pandas Series."
      ],
      "metadata": {
        "id": "x-T8Za3FDOr0"
      }
    },
    {
      "cell_type": "code",
      "source": [
        "# Fix the misspelled word\n",
        "replace_map = {\"Malez\": \"male\"}\n",
        "\n",
        "# Update the sex column using the created map\n",
        "dogs[\"sex\"] = dogs[\"sex\"].replace(replace_map)\n",
        "\n",
        "# Strip away leading whitespace\n",
        "dogs[\"sex\"] = dogs[\"sex\"].str.strip()\n",
        "\n",
        "# Make all responses lowercase\n",
        "dogs[\"sex\"] = dogs[\"sex\"].str.lower()\n",
        "\n",
        "# Convert to a categorical Series\n",
        "dogs[\"sex\"] = dogs[\"sex\"].astype('category')\n",
        "\n",
        "print(dogs[\"sex\"].value_counts())"
      ],
      "metadata": {
        "colab": {
          "base_uri": "https://localhost:8080/"
        },
        "id": "Q3lGr7ZMDOr1",
        "outputId": "b3dc77ce-67e1-4e66-8853-89ba213057c9"
      },
      "execution_count": null,
      "outputs": [
        {
          "output_type": "stream",
          "name": "stdout",
          "text": [
            "male      1681\n",
            "female    1256\n",
            "Name: sex, dtype: int64\n"
          ]
        }
      ]
    },
    {
      "cell_type": "markdown",
      "source": [
        "### Exercise 2."
      ],
      "metadata": {
        "id": "RVtV_0ELDOr1"
      }
    },
    {
      "cell_type": "markdown",
      "source": [
        "**Accessing and filtering data**\n",
        "\n",
        "You are working on a Python application to display information about the dogs available for adoption at your local animal shelter. Some of the variables of interest, such as \"breed\", \"size\", and \"coat\", are saved as categorical variables. In order for this application to work properly, you need to be able to access and filter data using these columns.\n",
        "\n",
        "The ID variable has been set as the index of the pandas DataFrame dogs.\n",
        "\n",
        "* Print the \"coat\" value for the dog with an ID of 23807.\n",
        "* For dogs with a long \"coat\", print the number of each \"sex\".\n",
        "* Print the average age of dogs with a \"breed\" of \"English Cocker Spaniel\".\n",
        "* Filter to the dogs with \"English\" in their \"breed\" name using the .contains() method."
      ],
      "metadata": {
        "id": "z-z6F-pTDOr1"
      }
    },
    {
      "cell_type": "code",
      "source": [
        "dogs['ID'] = dogs['ID'].astype(np.int64)\n",
        "dogs.set_index('ID', inplace=True)"
      ],
      "metadata": {
        "id": "B70aWDHw1UF-"
      },
      "execution_count": null,
      "outputs": []
    },
    {
      "cell_type": "code",
      "source": [
        "# Print the category of the coat for ID 23807\n",
        "print(dogs.loc[23807, 'coat'])\n",
        "\n",
        "# Find the count of male and female dogs who have a \"long\" coat\n",
        "print(dogs.loc[dogs['coat'] == 'long', 'sex'].value_counts())\n",
        "\n",
        "# Print the mean age of dogs with a breed of \"English Cocker Spaniel\"\n",
        "print(dogs.loc[dogs['breed'] == 'English Cocker Spaniel', 'age'].mean())\n",
        "\n",
        "# Count the number of dogs that have \"English\" in their breed name\n",
        "print(dogs[dogs[\"breed\"].str.contains('English', regex=False)].shape[0])"
      ],
      "metadata": {
        "colab": {
          "base_uri": "https://localhost:8080/"
        },
        "id": "SLBZb7D5DOr2",
        "outputId": "033fd306-cdf1-4960-8e99-42093e83d659"
      },
      "execution_count": null,
      "outputs": [
        {
          "output_type": "stream",
          "name": "stdout",
          "text": [
            "short\n",
            "male      124\n",
            "female     56\n",
            "Name: sex, dtype: int64\n",
            "8.186153846153847\n",
            "35\n"
          ]
        }
      ]
    },
    {
      "cell_type": "markdown",
      "source": [
        "# Chapter 3. Visualizing Categorical Data"
      ],
      "metadata": {
        "id": "pwrLkThRixsP"
      }
    },
    {
      "cell_type": "markdown",
      "source": [
        "## Introduction to categorical plots using Seaborn"
      ],
      "metadata": {
        "id": "wB2RegjZixsU"
      }
    },
    {
      "cell_type": "markdown",
      "source": [
        "### Exercise 1."
      ],
      "metadata": {
        "id": "I470qf2FixsV"
      }
    },
    {
      "cell_type": "markdown",
      "source": [
        "**Creating a box plot**\n",
        "\n",
        "When people leave reviews for products, services, or destinations, people reading those reviews can sometimes mark the original review as helpful. If enough people mark the review as helpful, future readers of these reviews might be more likely to trust the content of the original review.\n",
        "\n",
        "Using the reviews dataset, explore the continuous variable \"Helpful votes\" across the different categories found in the \"Traveler type\" variable.\n",
        "\n",
        "Note that for the remainder of this chapter, seaborn as sns and matplotlib.pyplot as plt will be preloaded for you.\n",
        "\n",
        "* Set the font size of your graphic to be 1.25.\n",
        "* Set the background of the graphic to be \"darkgrid\".\n",
        "* Create a boxplot using catplot() with \"Helpful votes\" as the continuous variable split across each \"Traveler type\". Make sure that you are using the reviews dataset."
      ],
      "metadata": {
        "id": "K-Qlp0XsixsV"
      }
    },
    {
      "cell_type": "code",
      "source": [
        "# Set the font size to 1.25\n",
        "sns.set(font_scale=1.25)\n",
        "\n",
        "# Set the background to \"darkgrid\"\n",
        "sns.set_style('darkgrid')\n",
        "\n",
        "# Create a boxplot\n",
        "sns.catplot(data=reviews, x='Traveler type', y=\"Helpful votes\", kind='box')\n",
        "\n",
        "plt.show()"
      ],
      "metadata": {
        "colab": {
          "base_uri": "https://localhost:8080/"
        },
        "id": "de4vfNHpixsV",
        "outputId": "e875fa13-dd1e-4c9d-da46-dda7ba55e9c4"
      },
      "execution_count": null,
      "outputs": [
        {
          "output_type": "display_data",
          "data": {
            "text/plain": [
              "<Figure size 500x500 with 1 Axes>"
            ],
            "image/png": "[encoded data removed]"
          },
          "metadata": {}
        }
      ]
    },
    {
      "cell_type": "markdown",
      "source": [
        "## Seaborn bar plots"
      ],
      "metadata": {
        "id": "plml00d4d-Zk"
      }
    },
    {
      "cell_type": "markdown",
      "source": [
        "### Exercise 1."
      ],
      "metadata": {
        "id": "4aQz4qCRixsW"
      }
    },
    {
      "cell_type": "markdown",
      "source": [
        "**Creating a bar plot**\n",
        "\n",
        "Las Vegas hotels are seeing large variations in how helpful reviews appear to other people. The owners of these hotels are curious if there are times of the year when reviews have been more helpful to their potential guests. Help the owners understand their reviews better by creating a bar plot of the average number of helpful votes per review across the categorical variable \"Period of stay\". The dataset reviews has been preloaded for you.\n",
        "\n",
        "* Print out the frequency counts of the variable \"Period of stay\" to make sure each category has data.\n",
        "* Create a bar plot using catplot().\n",
        "* Split the reviews dataset on \"Period of stay\" across the x-axis.\n",
        "* Specify the numerical variable to aggregate on as \"Helpful votes\"."
      ],
      "metadata": {
        "id": "eFMmWmTGixsW"
      }
    },
    {
      "cell_type": "code",
      "source": [
        "# Print the frequency counts of \"Period of stay\"\n",
        "print(reviews[\"Period of stay\"].value_counts())\n",
        "\n",
        "sns.set(font_scale=1.4)\n",
        "sns.set_style(\"whitegrid\")\n",
        "\n",
        "# Create a bar plot of \"Helpful votes\" by \"Period of stay\"\n",
        "sns.catplot(kind='bar', data=reviews, y=\"Helpful votes\", x='Period of stay')\n",
        "plt.show()"
      ],
      "metadata": {
        "colab": {
          "base_uri": "https://localhost:8080/"
        },
        "id": "m8QlOhWNixsW",
        "outputId": "7a28ecac-1572-4e3a-9ab4-f39309b7c862"
      },
      "execution_count": null,
      "outputs": [
        {
          "output_type": "stream",
          "name": "stdout",
          "text": [
            "Mar-May    128\n",
            "Jun-Aug    126\n",
            "Sep-Nov    126\n",
            "Dec-Feb    124\n",
            "Name: Period of stay, dtype: int64\n"
          ]
        },
        {
          "output_type": "display_data",
          "data": {
            "text/plain": [
              "<Figure size 500x500 with 1 Axes>"
            ],
            "image/png": "[encoded data removed]"
          },
          "metadata": {}
        }
      ]
    },
    {
      "cell_type": "markdown",
      "source": [
        "### Exercise 2."
      ],
      "metadata": {
        "id": "M-H95SrhixsW"
      }
    },
    {
      "cell_type": "markdown",
      "source": [
        "**Ordering categories**\n",
        "\n",
        "Not all categories are created equal. In the hotel review dataset, reviews, hotel owners know that most of their customers are from North America. When visualizing data broken out by \"User continent\" they might want North America to appear first. An ordered list of user continents has been provided as continent_categories. In this exercise, you will work through preparing a visualization that is ordered by the frequency counts of a Series.\n",
        "\n",
        "* Create a bar chart with \"User continent\" along the x-axis and \"Score\" along the y-axis.\n",
        "* Print out the frequency counts of \"User continent\".\n",
        "* Convert the \"User continent\" Series to a categorical and create a bar plot with \"User continent\" along the x-axis.\n",
        "* Reorder the \"User continent\" Series using the ordered list, continent_categories, and rerun the graphic."
      ],
      "metadata": {
        "id": "Baxgrg3kixsW"
      }
    },
    {
      "cell_type": "code",
      "source": [
        "# Create a bar chart\n",
        "sns.set(font_scale=.9)\n",
        "sns.set_style(\"whitegrid\")\n",
        "sns.catplot(x=\"User continent\", y=\"Score\", data=reviews, kind=\"bar\")\n",
        "\n",
        "# Print the frequency counts for \"User continent\"\n",
        "print(reviews[\"User continent\"].value_counts())\n",
        "\n",
        "# Convert \"User continent\" to a categorical variable\n",
        "reviews[\"User continent\"] = reviews[\"User continent\"].astype('category')\n",
        "sns.catplot(x=\"User continent\", y=\"Score\", data=reviews, kind=\"bar\")\n",
        "plt.show()\n",
        "\n",
        "# Reorder \"User continent\" using continent_categories and rerun the graphic\n",
        "continent_categories = list(reviews[\"User continent\"].value_counts().index)\n",
        "reviews[\"User continent\"] = reviews[\"User continent\"].cat.reorder_categories(new_categories=continent_categories)\n",
        "sns.catplot(x=\"User continent\", y=\"Score\", data=reviews, kind=\"bar\")\n",
        "plt.show()"
      ],
      "metadata": {
        "colab": {
          "base_uri": "https://localhost:8080/"
        },
        "id": "ZmT4Iza_ixsW",
        "outputId": "a3ad51ac-b3e7-4062-c24c-a88a99c8d7c9"
      },
      "execution_count": null,
      "outputs": [
        {
          "output_type": "stream",
          "name": "stdout",
          "text": [
            "North America    295\n",
            "Europe           118\n",
            "Oceania           41\n",
            "Asia              36\n",
            "Africa             7\n",
            "South America      7\n",
            "Name: User continent, dtype: int64\n"
          ]
        },
        {
          "output_type": "display_data",
          "data": {
            "text/plain": [
              "<Figure size 500x500 with 1 Axes>"
            ],
            "image/png": "[encoded data removed]"
          },
          "metadata": {}
        },
        {
          "output_type": "display_data",
          "data": {
            "text/plain": [
              "<Figure size 500x500 with 1 Axes>"
            ],
            "image/png": "[encoded data removed]"
          },
          "metadata": {}
        },
        {
          "output_type": "display_data",
          "data": {
            "text/plain": [
              "<Figure size 500x500 with 1 Axes>"
            ],
            "image/png": "[encoded data removed]"
          },
          "metadata": {}
        }
      ]
    },
    {
      "cell_type": "markdown",
      "source": [
        "### Exercise 3."
      ],
      "metadata": {
        "id": "lWGcJCG1ixsW"
      }
    },
    {
      "cell_type": "markdown",
      "source": [
        "**Bar plot using hue**\n",
        "\n",
        "Aggregating information across multiple categories is often necessary to help stakeholders better understand their data. In preparation for building a dashboard that will allow users to select up to two variables when creating visualizations, you want to test visualizations that use different combinations of categorical variables using a bar plot.\n",
        "\n",
        "* Update the plot so that \"Casino\" (along the x-axis) and \"Free internet\" (to color the bars) are used to split the data.\n",
        "* Switch the categories so that \"Free internet\" is on the x-axis and \"Casino\" is in the legend.\n",
        "* Update the x parameter to be \"User continent\".\n",
        "* The font was too large for the last visualization - change the font size to 1.0."
      ],
      "metadata": {
        "id": "bkRdQCcuixsW"
      }
    },
    {
      "cell_type": "code",
      "source": [
        "# Add a second category to split the data on: \"Free internet\"\n",
        "sns.set(font_scale=2)\n",
        "sns.set_style(\"darkgrid\")\n",
        "sns.catplot(x=\"Casino\", y=\"Score\", data=reviews, kind=\"bar\", hue=\"Free internet\")\n",
        "plt.show()\n",
        "\n",
        "# Switch the x and hue categories\n",
        "sns.set(font_scale=2)\n",
        "sns.set_style(\"darkgrid\")\n",
        "sns.catplot(x=\"Free internet\", y=\"Score\", data=reviews, kind=\"bar\", hue=\"Casino\")\n",
        "plt.show()\n",
        "\n",
        "# Update x to be \"User continent\"\n",
        "sns.set(font_scale=2)\n",
        "sns.set_style(\"darkgrid\")\n",
        "sns.catplot(x=\"User continent\", y=\"Score\", data=reviews, kind=\"bar\", hue=\"Casino\")\n",
        "plt.show()\n",
        "\n",
        "# Lower the font size so that all text fits on the screen.\n",
        "sns.set(font_scale=1)\n",
        "sns.set_style(\"darkgrid\")\n",
        "sns.catplot(x=\"User continent\", y=\"Score\", data=reviews, kind=\"bar\", hue=\"Casino\")\n",
        "plt.show()"
      ],
      "metadata": {
        "colab": {
          "base_uri": "https://localhost:8080/"
        },
        "id": "GaKCUSe4ixsW",
        "outputId": "f90c2b60-4808-46dc-c4ed-08cf1633c7c5"
      },
      "execution_count": null,
      "outputs": [
        {
          "output_type": "display_data",
          "data": {
            "text/plain": [
              "<Figure size 737.569x500 with 1 Axes>"
            ],
            "image/png": "[encoded data removed]"
          },
          "metadata": {}
        },
        {
          "output_type": "display_data",
          "data": {
            "text/plain": [
              "<Figure size 667.125x500 with 1 Axes>"
            ],
            "image/png": "[encoded data removed]"
          },
          "metadata": {}
        },
        {
          "output_type": "display_data",
          "data": {
            "text/plain": [
              "<Figure size 667.125x500 with 1 Axes>"
            ],
            "image/png": "[encoded data removed]"
          },
          "metadata": {}
        },
        {
          "output_type": "display_data",
          "data": {
            "text/plain": [
              "<Figure size 583.625x500 with 1 Axes>"
            ],
            "image/png": "[encoded data removed]"
          },
          "metadata": {}
        }
      ]
    },
    {
      "cell_type": "markdown",
      "source": [
        "## Point and count plots"
      ],
      "metadata": {
        "id": "3i30OWVPixsX"
      }
    },
    {
      "cell_type": "markdown",
      "source": [
        "### Exercise 1."
      ],
      "metadata": {
        "id": "AVlgR1bEixsX"
      }
    },
    {
      "cell_type": "markdown",
      "source": [
        "**Creating a point plot**\n",
        "\n",
        "Creating helpful visualizations sometimes requires a lot of testing. You have been asked to create a visualization that shows the number of reviews, \"Nr. reviews\", which is the number of reviews a reviewer has previously written, across a hotel's star rating, \"Hotel stars\". Since the number of reviews is numerical, you have decided to use a point plot to show the mean of the data across the categories.\n",
        "\n",
        "* Using the catplot() function, create a point plot.\n",
        "* Split the data across the x-axis using \"Hotel stars\".\n",
        "* Specify the numerical variable to visualize to \"Nr. reviews\".\n",
        "* Update the arguments so that any lines that appear do not overlap."
      ],
      "metadata": {
        "id": "vgZMInVYixsX"
      }
    },
    {
      "cell_type": "code",
      "source": [
        "# Create a point plot with catplot using \"Hotel stars\" and \"Nr. reviews\"\n",
        "sns.catplot(\n",
        "  # Split the data across Hotel stars and summarize Nr. reviews\n",
        "  x=\"Hotel stars\",\n",
        "  y=\"Nr. reviews\",\n",
        "  data=reviews,\n",
        "  # Specify a point plot\n",
        "  kind='point',\n",
        "  hue=\"Pool\",\n",
        "  # Make sure the lines and points don't overlap\n",
        "  dodge=True\n",
        ")\n",
        "plt.show()"
      ],
      "metadata": {
        "colab": {
          "base_uri": "https://localhost:8080/"
        },
        "id": "f_0bmVd8A6Ge",
        "outputId": "52f8bd37-705c-4947-e90a-f586efb7c3ea"
      },
      "execution_count": null,
      "outputs": [
        {
          "output_type": "display_data",
          "data": {
            "text/plain": [
              "<Figure size 583.625x500 with 1 Axes>"
            ],
            "image/png": "[encoded data removed]"
          },
          "metadata": {}
        }
      ]
    },
    {
      "cell_type": "markdown",
      "source": [
        "### Exercise 2."
      ],
      "metadata": {
        "id": "6cTe3TD8ixsX"
      }
    },
    {
      "cell_type": "markdown",
      "source": [
        "**Creating a count plot**\n",
        "\n",
        "When creating quick analysis of frequency counts, you have been using .value_counts(). This is a great way for you to see the counts and get an idea of which categories are present in the data. However, sending frequency tables to clients or coworkers may not always be a good idea. For this exercise, you will visualize the number of reviews by their \"Score\". Although \"Score\" has been used as a numerical variable in the past, it can be used as a categorical variable given that it has five unique values that are ordered from worst to best. The reviews dataset has been preloaded.\n",
        "\n",
        "* Use the catplot() function to display count frequencies using the reviews dataset.\n",
        "* Count the frequencies for the \"Score\" variable across the x-axis.\n",
        "* When counting the frequencies, color the bars using the \"Traveler type\" column."
      ],
      "metadata": {
        "id": "R20Sb8ZnixsX"
      }
    },
    {
      "cell_type": "code",
      "source": [
        "sns.set(font_scale=1.4)\n",
        "sns.set_style(\"darkgrid\")\n",
        "\n",
        "# Create a catplot that will count the frequency of \"Score\" across \"Traveler type\"\n",
        "sns.catplot(\n",
        "  data=reviews,\n",
        "  x='Score',\n",
        "  hue=\"Traveler type\",\n",
        "  kind='count'\n",
        ")\n",
        "plt.show()"
      ],
      "metadata": {
        "colab": {
          "base_uri": "https://localhost:8080/"
        },
        "id": "GepGrddAixsX",
        "outputId": "bc3fd680-fe02-4045-b5ef-05edaabc358d"
      },
      "execution_count": null,
      "outputs": [
        {
          "output_type": "display_data",
          "data": {
            "text/plain": [
              "<Figure size 671.25x500 with 1 Axes>"
            ],
            "image/png": "[encoded data removed]"
          },
          "metadata": {}
        }
      ]
    },
    {
      "cell_type": "markdown",
      "source": [
        "## Additional catplot() options"
      ],
      "metadata": {
        "id": "HoSYqUtN1bZm"
      }
    },
    {
      "cell_type": "markdown",
      "source": [
        "### Exercise 1."
      ],
      "metadata": {
        "id": "KDVumsO_1bZ2"
      }
    },
    {
      "cell_type": "markdown",
      "source": [
        "**One visualization per group**\n",
        "\n",
        "While working on a data exploration project, you have been asked to visualize the number of reviews of hotels by \"Period of stay\" and by the day of the week, \"Review weekday\". The goal of this visualization is to see what day of the week has the most reviews for each of the four periods of stay. The reviews dataset has been preloaded for you, as well as both seaborn, as sns, and matplotlib.pyplot as plt.\n",
        "\n",
        "* Create a catplot() using \"count\" as the type of graphic.\n",
        "* Count the number of reviews by \"Review weekday\".\n",
        "* Create individual plots for each \"Period of stay\".\n",
        "* Wrap the plots after every 2nd graphic."
      ],
      "metadata": {
        "id": "WpwBY4mp1bZ2"
      }
    },
    {
      "cell_type": "code",
      "source": [
        "# Create a catplot for each \"Period of stay\" broken down by \"Review weekday\"\n",
        "ax = sns.catplot(\n",
        "  # Make sure Review weekday is along the x-axis\n",
        "  kind='count',\n",
        "  # Specify Period of stay as the column to create individual graphics for\n",
        "  x=\"Review weekday\",\n",
        "  # Specify that a count plot should be created\n",
        "  col=\"Period of stay\",\n",
        "  # Wrap the plots after every 2nd graphic.\n",
        "  col_wrap=2,\n",
        "  data=reviews\n",
        ")\n",
        "plt.show()"
      ],
      "metadata": {
        "colab": {
          "base_uri": "https://localhost:8080/"
        },
        "id": "KHJShTHt1bZ3",
        "outputId": "ec8e42c7-a53a-4193-d956-90e0685f8408"
      },
      "execution_count": null,
      "outputs": [
        {
          "output_type": "display_data",
          "data": {
            "text/plain": [
              "<Figure size 1000x1000 with 4 Axes>"
            ],
            "image/png": "[encoded data removed]"
          },
          "metadata": {}
        }
      ]
    },
    {
      "cell_type": "markdown",
      "source": [
        "### Exercise 2."
      ],
      "metadata": {
        "id": "zd1eFkmr1bZ3"
      }
    },
    {
      "cell_type": "markdown",
      "source": [
        "**Updating categorical plots**\n",
        "\n",
        "Hotels are constantly working to get better reviews from their customers. A hotel chain has asked you to create visualizations to help the company understand why people might provide various ratings after staying at their hotels. A manager has asked if hotels with \"Free internet\" receive higher reviews given the \"Traveler type\".\n",
        "\n",
        "Creating visualizations is an iterative process. In this exercise, you will start with a basic graphic and iteratively add features until you have a finished product. The reviews dataset has been preloaded for you, as well as both seaborn, as sns, and matplotlib.pyplot as plt.\n",
        "\n",
        "* Adjust the color of the plot to be seaborn's \"Set2\" palette.\n",
        "* Add the title \"Hotel Score by Traveler Type and Free Internet Access\".\n",
        "* Update the axis labels to be \"Free Internet\" for the x-axis and \"Average Review Rating\" for the y-axis.\n",
        "* Adjust the starting height of the graphic to be 93% of the full visualization height."
      ],
      "metadata": {
        "id": "OPQp1sRX1bZ3"
      }
    },
    {
      "cell_type": "code",
      "source": [
        "# Adjust the color\n",
        "ax = sns.catplot(\n",
        "  x=\"Free internet\", y=\"Score\",\n",
        "  hue=\"Traveler type\", kind=\"bar\",\n",
        "  data=reviews,\n",
        "  palette=sns.color_palette(\"Set2\")\n",
        ")\n",
        "\n",
        "# Add a title\n",
        "ax.fig.suptitle(\"Hotel Score by Traveler Type and Free Internet Access\")\n",
        "# Update the axis labels\n",
        "ax.set_axis_labels(\"Free Internet\", \"Average Review Rating\")\n",
        "\n",
        "# Adjust the starting height of the graphic\n",
        "plt.subplots_adjust(top=.93)\n",
        "plt.show()"
      ],
      "metadata": {
        "colab": {
          "base_uri": "https://localhost:8080/"
        },
        "id": "om7QhnFe1bZ4",
        "outputId": "79ddcdfa-93da-4e62-f1e5-5d52d0516163"
      },
      "execution_count": null,
      "outputs": [
        {
          "output_type": "display_data",
          "data": {
            "text/plain": [
              "<Figure size 671.25x500 with 1 Axes>"
            ],
            "image/png": "[encoded data removed]"
          },
          "metadata": {}
        }
      ]
    },
    {
      "cell_type": "markdown",
      "source": [
        "# Chapter 4. Pitfalls and encoding"
      ],
      "metadata": {
        "id": "cKcfIRpAiziT"
      }
    },
    {
      "cell_type": "markdown",
      "source": [
        "## Categorical pitfalls"
      ],
      "metadata": {
        "id": "HgE2sRaeiziZ"
      }
    },
    {
      "cell_type": "markdown",
      "source": [
        "### Exercise 1."
      ],
      "metadata": {
        "id": "lVeZHKQLiziZ"
      }
    },
    {
      "cell_type": "markdown",
      "source": [
        "**Memory usage knowledge check**\n",
        "\n",
        "Using categorical pandas Series can save a lot of memory, sometimes as much as 90% of the original columns memory usage. If each of the columns listed is converted to a categorical Series, which column will save the most memory? The used_cars dataset has been loaded for you.\n",
        "\n",
        "* price_usd\n",
        "* drivetrain <--\n",
        "* model_name"
      ],
      "metadata": {
        "id": "eokOapgeiziZ"
      }
    },
    {
      "cell_type": "code",
      "source": [
        "print(used_cars['price_usd'].astype('category').nbytes/used_cars['price_usd'].nbytes)\n",
        "print(used_cars['drivetrain'].astype('category').nbytes/used_cars['drivetrain'].nbytes)\n",
        "print(used_cars['model_name'].astype('category').nbytes/used_cars['model_name'].nbytes)"
      ],
      "metadata": {
        "colab": {
          "base_uri": "https://localhost:8080/"
        },
        "id": "LOXcMQB-iziZ",
        "outputId": "2e2a18e8-b4cd-4f06-9561-02e5f5c96c26"
      },
      "execution_count": null,
      "outputs": [
        {
          "output_type": "stream",
          "name": "stdout",
          "text": [
            "0.3194765253951364\n",
            "0.12507785938594898\n",
            "0.27901559783031843\n"
          ]
        }
      ]
    },
    {
      "cell_type": "markdown",
      "source": [
        "### Exercise 2."
      ],
      "metadata": {
        "id": "W-u56qbGiziZ"
      }
    },
    {
      "cell_type": "markdown",
      "source": [
        "**Overcoming pitfalls: string issues**\n",
        "\n",
        "Being able to effectively use categorical pandas Series is an important skill to have in your toolbelt. Unfortunately, there are several common problems that you may run into when using these Series.\n",
        "\n",
        "In this exercise, you will work through code from a previous exercise on updating a categorical Series. Follow the instructions to make sure everything goes smoothly. The used cars dataset, used_cars, is loaded for you.\n",
        "\n",
        "* Print the frequency table of the \"body_type\" column for used_cars and include NaN values.\n",
        "* Update the .loc statement so that all NaN values in \"body_type\" are set to \"other\".\n",
        "* Convert the \"body_type\" column to title case.\n",
        "* Check the dtype of the \"body_type\" column."
      ],
      "metadata": {
        "id": "_ZYoPS4MiziZ"
      }
    },
    {
      "cell_type": "code",
      "source": [
        "# Print the frequency table of body_type and include NaN values\n",
        "print(used_cars[\"body_type\"].value_counts(dropna=False))\n",
        "\n",
        "# Update NaN values\n",
        "used_cars.loc[used_cars[\"body_type\"].isna(), \"body_type\"] = \"other\"\n",
        "\n",
        "# Convert body_type to title case\n",
        "used_cars[\"body_type\"] = used_cars[\"body_type\"].str.title()\n",
        "\n",
        "# Check the dtype\n",
        "print(used_cars[\"body_type\"].dtype)"
      ],
      "metadata": {
        "colab": {
          "base_uri": "https://localhost:8080/"
        },
        "id": "W8koZQusizia",
        "outputId": "c260a48d-37be-4f81-a56f-78c407acc5be"
      },
      "execution_count": null,
      "outputs": [
        {
          "output_type": "stream",
          "name": "stdout",
          "text": [
            "sedan        13011\n",
            "hatchback     7644\n",
            "universal     5507\n",
            "suv           5164\n",
            "minivan       3608\n",
            "minibus       1369\n",
            "van            808\n",
            "coupe          652\n",
            "liftback       552\n",
            "pickup         129\n",
            "cabriolet       75\n",
            "limousine       12\n",
            "Name: body_type, dtype: int64\n",
            "object\n"
          ]
        }
      ]
    },
    {
      "cell_type": "markdown",
      "source": [
        "### Exercise 3."
      ],
      "metadata": {
        "id": "pjfq1Tavizia"
      }
    },
    {
      "cell_type": "markdown",
      "source": [
        "**Overcoming pitfalls: using NumPy arrays**\n",
        "\n",
        "A local used car company manually appraises each car that they add to their inventory. When a new car comes in, they select from a drop-down menu, giving the car a rating between 1 and 5. A 1 means that the car probably won't sell as is, but a 5 indicates the car will definitely sell without a problem.\n",
        "\n",
        "With over 38,000 cars in their inventory, the company has asked you to give them an average \"sellability\" of their cars. For this exercise, use the used_cars dataset. The column of interest is called \"Sale Rating\" and it is currently a categorical column.\n",
        "\n",
        "* Print the frequency table of the \"Sale Rating\" column of the used_cars dataset.\n",
        "* Correct the second statement by converting the column to type int before calling .mean()."
      ],
      "metadata": {
        "id": "0wWopOrcizia"
      }
    },
    {
      "cell_type": "code",
      "source": [
        "# Data preparation\n",
        "used_cars[\"Sale Rating\"] = np.random.randint(3, 6, used_cars.shape[0])"
      ],
      "metadata": {
        "id": "RTl6PdVyYePE"
      },
      "execution_count": null,
      "outputs": []
    },
    {
      "cell_type": "code",
      "source": [
        "# Print the frequency table of Sale Rating\n",
        "print(used_cars[\"Sale Rating\"].value_counts())\n",
        "\n",
        "# Find the average score\n",
        "average_score = used_cars[\"Sale Rating\"].astype(int).mean()\n",
        "\n",
        "# Print the average\n",
        "print(average_score)"
      ],
      "metadata": {
        "colab": {
          "base_uri": "https://localhost:8080/"
        },
        "id": "_mfgvCS9izia",
        "outputId": "c458f0e3-fe98-4498-b594-de9f4bf0a653"
      },
      "execution_count": null,
      "outputs": [
        {
          "output_type": "stream",
          "name": "stdout",
          "text": [
            "4    12930\n",
            "3    12815\n",
            "5    12786\n",
            "Name: Sale Rating, dtype: int64\n",
            "3.9992473592691598\n"
          ]
        }
      ]
    },
    {
      "cell_type": "markdown",
      "source": [
        "## Label encoding"
      ],
      "metadata": {
        "id": "3eJZFjzKizia"
      }
    },
    {
      "cell_type": "markdown",
      "source": [
        "### Exercise 1."
      ],
      "metadata": {
        "id": "lGJdY4I8izia"
      }
    },
    {
      "cell_type": "markdown",
      "source": [
        "**Create a label encoding and map**\n",
        "\n",
        "A used car company believes that they can predict a car's sales price reasonably well using their used_cars dataset. One of the variables they want to use, \"color\", needs to be converted to codes. The company believes that a car's color will be important when predicting sales price.\n",
        "\n",
        "* Convert the color column to a categorical Series.\n",
        "* Create a new column, \"color_code\", by creating a label encoding for the variable \"color\".\n",
        "* Before you forget which codes belong to which categories, create a color map using the codes and categories objects.\n",
        "* Print the new color map to see which codes map to which categories."
      ],
      "metadata": {
        "id": "xe3Jxvyrizia"
      }
    },
    {
      "cell_type": "code",
      "source": [
        "# Convert to categorical and print the frequency table\n",
        "used_cars[\"color\"] = used_cars[\"color\"].astype(\"category\")\n",
        "print(used_cars[\"color\"].value_counts())\n",
        "\n",
        "# Create a label encoding\n",
        "used_cars[\"color_code\"] = used_cars[\"color\"].cat.codes\n",
        "\n",
        "# Create codes and categories objects\n",
        "codes = used_cars[\"color\"].cat.codes\n",
        "categories = used_cars[\"color\"]\n",
        "color_map = dict(zip(codes, categories))\n",
        "\n",
        "# Print the map\n",
        "print(color_map)"
      ],
      "metadata": {
        "colab": {
          "base_uri": "https://localhost:8080/"
        },
        "id": "SWiCJWspizia",
        "outputId": "a3b42cac-a941-4c87-ea22-00072c7db64c"
      },
      "execution_count": null,
      "outputs": [
        {
          "output_type": "stream",
          "name": "stdout",
          "text": [
            "black     7705\n",
            "silver    6852\n",
            "blue      5802\n",
            "white     4212\n",
            "grey      3751\n",
            "red       2925\n",
            "green     2760\n",
            "other     2688\n",
            "brown      886\n",
            "violet     463\n",
            "yellow     303\n",
            "orange     184\n",
            "Name: color, dtype: int64\n",
            "{8: 'silver', 1: 'blue', 7: 'red', 0: 'black', 4: 'grey', 6: 'other', 2: 'brown', 10: 'white', 3: 'green', 9: 'violet', 5: 'orange', 11: 'yellow'}\n"
          ]
        }
      ]
    },
    {
      "cell_type": "markdown",
      "source": [
        "### Exercise 2."
      ],
      "metadata": {
        "id": "t10PbR5Sizia"
      }
    },
    {
      "cell_type": "markdown",
      "source": [
        "**Using saved mappings**\n",
        "\n",
        "You are using a subset of a dataset and have been asked to create visualizations summarizing the output. As the dataset currently stands, all you see are numbers! Luckily, you had created and saved dictionaries (color_map, fuel_map, and transmission_map) that will map these columns back to their original categorical names. The dataset used_cars_updated has been preloaded. A preview of the dataset is shown. Check out the console to view the column data types.\n",
        "\n",
        ">        engine_fuel  color  transmission  price_usd  \n",
        "0                3      8             0   10900.00  \n",
        "1                3      1             0    5000.00  \n",
        "2                3      7             0    2800.00\n",
        "\n",
        "* Update the \"color\" column back to its original values using the color_map dictionary.\n",
        "* Update the \"engine_fuel\" column back to its original values using the fuel_map dictionary.\n",
        "* Update the \"transmission\" column back to its original values using the transmission_map dictionary.\n",
        "* Use .info() on the dataset to see if the dtypes have changed."
      ],
      "metadata": {
        "id": "CjQVsrL_izia"
      }
    },
    {
      "cell_type": "code",
      "source": [
        "# Creating/processing datasets and variables for the exercise:\n",
        "\n",
        "used_cars_updated = pd.DataFrame()\n",
        "\n",
        "used_cars_updated['color'] = used_cars['color'].astype('category').cat.codes\n",
        "used_cars_updated['engine_fuel'] = used_cars[\"engine_fuel\"].astype(\"category\").cat.codes\n",
        "used_cars_updated['transmission'] = used_cars[\"transmission\"].astype(\"category\").cat.codes\n",
        "\n",
        "color_map = dict(zip(used_cars_updated['color'], used_cars['color']))\n",
        "fuel_map = dict(zip(used_cars_updated['engine_fuel'], used_cars['engine_fuel']))\n",
        "transmission_map = dict(zip(used_cars_updated['transmission'], used_cars['transmission']))"
      ],
      "metadata": {
        "id": "ZEtjuZhR2VB1"
      },
      "execution_count": null,
      "outputs": []
    },
    {
      "cell_type": "code",
      "source": [
        "# Update the color column using the color_map\n",
        "used_cars_updated[\"color\"] = used_cars_updated[\"color\"].map(color_map)\n",
        "# Update the engine fuel column using the fuel_map\n",
        "used_cars_updated[\"engine_fuel\"] = used_cars_updated[\"engine_fuel\"].map(fuel_map)\n",
        "# Update the transmission column using the transmission_map\n",
        "used_cars_updated[\"transmission\"] = used_cars_updated[\"transmission\"].map(transmission_map)\n",
        "\n",
        "# Print the info statement\n",
        "print(used_cars_updated.info())"
      ],
      "metadata": {
        "colab": {
          "base_uri": "https://localhost:8080/"
        },
        "id": "ZjevmI72izib",
        "outputId": "60a9b196-da50-44ca-9b71-5e21ca377581"
      },
      "execution_count": null,
      "outputs": [
        {
          "output_type": "stream",
          "name": "stdout",
          "text": [
            "<class 'pandas.core.frame.DataFrame'>\n",
            "RangeIndex: 38531 entries, 0 to 38530\n",
            "Data columns (total 3 columns):\n",
            " #   Column        Non-Null Count  Dtype \n",
            "---  ------        --------------  ----- \n",
            " 0   color         38531 non-null  object\n",
            " 1   engine_fuel   38531 non-null  object\n",
            " 2   transmission  38531 non-null  object\n",
            "dtypes: object(3)\n",
            "memory usage: 903.2+ KB\n",
            "None\n"
          ]
        }
      ]
    },
    {
      "cell_type": "markdown",
      "source": [
        "### Exercise 3."
      ],
      "metadata": {
        "id": "GO5IkrICizib"
      }
    },
    {
      "cell_type": "markdown",
      "source": [
        "**Creating a Boolean encoding**\n",
        "\n",
        "In preparation for running machine learning models to estimate the sale price of used cars, you are starting to analyze the available columns of the used_cars dataset and want to create columns that can be used in training. One of the managers of a used car dealership has said that the manufacturer of the car is the most important aspect he considers when setting prices. You will begin by exploring the manufacturer_name column.\n",
        "\n",
        "* Print the frequency table of the \"manufacturer_name\" column.\n",
        "* Create a column, \"is_volkswagen\", that is True when \"manufacturer_name\" contains \"Volkswagen\" and False otherwise.\n",
        "* Update the code so that a 1 is used instead of True and a 0 is used instead of False so Python can use this column in algorithms.\n",
        "* Print out a frequency table for the newly created column."
      ],
      "metadata": {
        "id": "z5sfJro0izib"
      }
    },
    {
      "cell_type": "code",
      "source": [
        "# Print the manufacturer name frequency table\n",
        "print(used_cars[\"manufacturer_name\"].value_counts())\n",
        "\n",
        "# Create a Boolean column based on if the manufacturer name that contain Volkswagen\n",
        "used_cars[\"is_volkswagen\"] = np.where(\n",
        "  used_cars[\"manufacturer_name\"].str.contains('Volkswagen', regex=False), True, False\n",
        ")\n",
        "\n",
        "# Create a Boolean column for the most common manufacturer name\n",
        "used_cars[\"is_volkswagen\"] = np.where(\n",
        "  used_cars[\"manufacturer_name\"].str.contains(\"Volkswagen\", regex=False), 1, 0\n",
        ")\n",
        "\n",
        "# Check the final frequency table\n",
        "print(used_cars[\"is_volkswagen\"].value_counts())"
      ],
      "metadata": {
        "id": "lRElNw6fizib",
        "colab": {
          "base_uri": "https://localhost:8080/"
        },
        "outputId": "b53fdca4-92b0-4966-9a00-f43fd67f9da3"
      },
      "execution_count": null,
      "outputs": [
        {
          "output_type": "stream",
          "name": "stdout",
          "text": [
            "Volkswagen       4243\n",
            "Opel             2759\n",
            "BMW              2610\n",
            "Ford             2566\n",
            "Renault          2493\n",
            "Audi             2468\n",
            "Mercedes-Benz    2237\n",
            "Peugeot          1909\n",
            "Citroen          1562\n",
            "Nissan           1361\n",
            "Mazda            1328\n",
            "Toyota           1246\n",
            "Hyundai          1116\n",
            "Skoda            1089\n",
            "Kia               912\n",
            "Mitsubishi        887\n",
            "Fiat              824\n",
            "Honda             797\n",
            "Volvo             721\n",
            "ВАЗ               481\n",
            "Chevrolet         436\n",
            "Chrysler          410\n",
            "Seat              303\n",
            "Dodge             297\n",
            "Subaru            291\n",
            "Rover             235\n",
            "Suzuki            234\n",
            "Daewoo            221\n",
            "Lexus             213\n",
            "Alfa Romeo        207\n",
            "ГАЗ               200\n",
            "Land Rover        184\n",
            "Infiniti          162\n",
            "LADA              146\n",
            "Iveco             139\n",
            "Saab              108\n",
            "Jeep              107\n",
            "Lancia             92\n",
            "SsangYong          79\n",
            "УАЗ                74\n",
            "Geely              71\n",
            "Mini               68\n",
            "Acura              66\n",
            "Porsche            61\n",
            "Dacia              59\n",
            "Chery              58\n",
            "Москвич            55\n",
            "Jaguar             53\n",
            "Buick              47\n",
            "Lifan              47\n",
            "Cadillac           43\n",
            "Pontiac            42\n",
            "ЗАЗ                42\n",
            "Lincoln            36\n",
            "Great Wall         36\n",
            "Name: manufacturer_name, dtype: int64\n",
            "0    34288\n",
            "1     4243\n",
            "Name: is_volkswagen, dtype: int64\n"
          ]
        }
      ]
    },
    {
      "cell_type": "markdown",
      "source": [
        "## One-hot encoding"
      ],
      "metadata": {
        "id": "diYC7c9dizib"
      }
    },
    {
      "cell_type": "markdown",
      "source": [
        "### Exercise 1."
      ],
      "metadata": {
        "id": "AetNZx39izie"
      }
    },
    {
      "cell_type": "markdown",
      "source": [
        "**One-hot encoding specific columns**\n",
        "\n",
        "A local used car dealership wants your help in predicting the sale price of their vehicles. If you use one-hot encoding on the entire used_cars dataset, the new dataset has over 1,200 columns. You are worried that this might lead to problems when training your machine learning models to predict price. You have decided to try a simpler approach and only use one-hot encoding on a few columns.\n",
        "\n",
        "* Create a new dataset, used_cars_simple, with one-hot encoding for these columns: \"manufacturer_name\" and \"transmission\" (in this order).\n",
        "* Set the prefix of all new columns to \"dummy\", so that you can easily filter to newly created columns."
      ],
      "metadata": {
        "id": "rg0YrLaaizie"
      }
    },
    {
      "cell_type": "code",
      "source": [
        "# Create one-hot encoding for just two columns\n",
        "used_cars_simple = pd.get_dummies(\n",
        "  used_cars,\n",
        "  # Specify the columns from the instructions\n",
        "  columns=[\"manufacturer_name\", 'transmission'],\n",
        "  # Set the prefix\n",
        "  prefix=\"dummy\"\n",
        ")\n",
        "\n",
        "# Print the shape of the new dataset\n",
        "print(used_cars_simple.shape)"
      ],
      "metadata": {
        "id": "2Ei1Mkc1izif",
        "colab": {
          "base_uri": "https://localhost:8080/"
        },
        "outputId": "6bc13988-891a-47b9-8a25-df1f0316e400"
      },
      "execution_count": null,
      "outputs": [
        {
          "output_type": "stream",
          "name": "stdout",
          "text": [
            "(38531, 88)\n"
          ]
        }
      ]
    }
  ]
}